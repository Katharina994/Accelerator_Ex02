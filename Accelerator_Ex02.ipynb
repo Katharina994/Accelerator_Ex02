{
 "cells": [
  {
   "cell_type": "code",
   "execution_count": 1,
   "id": "b9b40f8e",
   "metadata": {},
   "outputs": [
    {
     "name": "stdout",
     "output_type": "stream",
     "text": [
      "Enter Proton Number3\n",
      "Enter Mass Number7\n",
      "4\n"
     ]
    }
   ],
   "source": [
    "#Find Neutron number\n",
    "#Protonnumber=Z\n",
    "#Massnumber=A\n",
    "# I first tried if it works with Lithium. The real example is below with U-238.\n",
    "\n",
    "Z=input(\"Enter Proton Number\")\n",
    "Z=int(Z)\n",
    "\n",
    "A=input(\"Enter Mass Number\")\n",
    "A=int(A)\n",
    "\n",
    "N=A-Z\n",
    "print(N)"
   ]
  },
  {
   "cell_type": "code",
   "execution_count": 2,
   "id": "b880dfbe",
   "metadata": {},
   "outputs": [
    {
     "name": "stdout",
     "output_type": "stream",
     "text": [
      "Enter Proton Number92\n",
      "Enter Mass Number238\n",
      "146\n"
     ]
    }
   ],
   "source": [
    "#Example with Uran-238\n",
    "\n",
    "Z=input(\"Enter Proton Number\")\n",
    "Z=int(Z)\n",
    "\n",
    "A=input(\"Enter Mass Number\")\n",
    "A=int(A)\n",
    "\n",
    "N=A-Z\n",
    "print(N)"
   ]
  },
  {
   "cell_type": "code",
   "execution_count": null,
   "id": "6b624207",
   "metadata": {},
   "outputs": [],
   "source": []
  }
 ],
 "metadata": {
  "kernelspec": {
   "display_name": "Python 3 (ipykernel)",
   "language": "python",
   "name": "python3"
  },
  "language_info": {
   "codemirror_mode": {
    "name": "ipython",
    "version": 3
   },
   "file_extension": ".py",
   "mimetype": "text/x-python",
   "name": "python",
   "nbconvert_exporter": "python",
   "pygments_lexer": "ipython3",
   "version": "3.9.12"
  }
 },
 "nbformat": 4,
 "nbformat_minor": 5
}
